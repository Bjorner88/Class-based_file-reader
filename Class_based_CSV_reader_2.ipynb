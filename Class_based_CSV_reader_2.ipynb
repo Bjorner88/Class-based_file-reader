{
 "cells": [
  {
   "cell_type": "code",
   "execution_count": 1,
   "metadata": {},
   "outputs": [],
   "source": [
    "import csv\n",
    "import pandas\n",
    "import os\n",
    "import os.path"
   ]
  },
  {
   "cell_type": "code",
   "execution_count": 2,
   "metadata": {},
   "outputs": [],
   "source": [
    "#CLASS\n",
    "class csv_file:\n",
    "    \n",
    "    #ATTRIBUTE\n",
    "        def __init__(file):\n",
    "            print('BJORNS CSV READER\\n')\n",
    "            start = file\n",
    "        def function(file):\n",
    "            #START\n",
    "            print('Please enter name of the .csv file, located in this directory, that you would like to look at.\\n')\n",
    "            x = input()\n",
    "            loaded_file = '{}'.format(x)+'.csv'\n",
    "            print('\\nYou requested: {}'.format(loaded_file))\n",
    "            \n",
    "            if os.path.isfile('./{}'.format(loaded_file)) == True: \n",
    "                print('File existence confirmed. Proceeeding...\\n') \n",
    "\n",
    "                def reader():\n",
    "                    data = open('{}'.format(loaded_file))\n",
    "                    csv_data = csv.reader(data)\n",
    "                    data_lines = list(csv_data)\n",
    "                    print('Printing rows 1-5: ')\n",
    "                    for datarow in data_lines[:5]:\n",
    "                        print(datarow)\n",
    "\n",
    "                    #ASK FOR FULL SET               \n",
    "                    print('\\nTo see the full dataset, insert Y. To cancel, press N. ') \n",
    "                    def see_data():\n",
    "                        for datarow in data_lines:\n",
    "                            print(datarow)\n",
    "                    yorn = input()\n",
    "                    if yorn.upper() == 'Y':\n",
    "                        crab = see_data()\n",
    "                    elif yorn.upper() == 'N': \n",
    "                        print('Cancelling operation. Blessed day.')\n",
    "                        return\n",
    "                    else: \n",
    "                        print('Wrong input. Please insert Y or N. \\nThis is your last warning.')\n",
    "                        yorn = input()\n",
    "                        if yorn.upper() == 'Y':\n",
    "                            crabtwo = see_data()\n",
    "                        elif yorn.upper() == 'N': \n",
    "                            print('Cancelling operation. Blessed day.')\n",
    "                            return\n",
    "                #START READER\n",
    "                lion = reader()             \n",
    "            else:     \n",
    "                print('File does not exist in this directory.')\n",
    "                #try again somehow?\n",
    "        "
   ]
  },
  {
   "cell_type": "code",
   "execution_count": null,
   "metadata": {},
   "outputs": [
    {
     "name": "stdout",
     "output_type": "stream",
     "text": [
      "BJORNS CSV READER\n",
      "\n",
      "Please enter name of the .csv file, located in this directory, that you would like to look at.\n",
      "\n"
     ]
    }
   ],
   "source": [
    "#START PROGRAM\n",
    "zebra = csv_file()\n",
    "zebra.function()"
   ]
  },
  {
   "cell_type": "code",
   "execution_count": null,
   "metadata": {},
   "outputs": [],
   "source": []
  }
 ],
 "metadata": {
  "kernelspec": {
   "display_name": "Python 3",
   "language": "python",
   "name": "python3"
  },
  "language_info": {
   "codemirror_mode": {
    "name": "ipython",
    "version": 3
   },
   "file_extension": ".py",
   "mimetype": "text/x-python",
   "name": "python",
   "nbconvert_exporter": "python",
   "pygments_lexer": "ipython3",
   "version": "3.8.3"
  }
 },
 "nbformat": 4,
 "nbformat_minor": 4
}
